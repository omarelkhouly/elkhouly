{
  "nbformat": 4,
  "nbformat_minor": 0,
  "metadata": {
    "colab": {
      "name": "omar_machine",
      "provenance": [],
      "collapsed_sections": [],
      "toc_visible": true
    },
    "kernelspec": {
      "name": "python3",
      "display_name": "Python 3"
    },
    "accelerator": "GPU"
  },
  "cells": [
    {
      "cell_type": "code",
      "metadata": {
        "id": "DbJyO3trqyh6",
        "colab_type": "code",
        "colab": {}
      },
      "source": [
        "import os\n",
        "import numpy\n",
        "import numpy as np\n",
        "import pandas\n",
        "import pandas as pd\n",
        "import random\n",
        "from matplotlib import pyplot"
      ],
      "execution_count": 0,
      "outputs": []
    },
    {
      "cell_type": "code",
      "metadata": {
        "id": "eXPLvMqIs-RP",
        "colab_type": "code",
        "colab": {}
      },
      "source": [
        "house_data = pd.read_csv('/content/house_data_complete.csv')\n",
        "house_data=house_data.sample(frac =1, replace=False)\n",
        "house_data = round(house_data)\n",
        "house_data_price = house_data['price']\n",
        "house_data = house_data.drop(['id','date','price','waterfront','zipcode','lat','long'],1)"
      ],
      "execution_count": 0,
      "outputs": []
    },
    {
      "cell_type": "code",
      "metadata": {
        "id": "Bi3cTzQFwgfa",
        "colab_type": "code",
        "colab": {}
      },
      "source": [
        "#================   Normalization ===================#\n",
        "def  featureNormalize(X):\n",
        "\n",
        "    ncol = X.shape[1]\n",
        "    X_norm = X.copy()\n",
        "    mu = X_norm.mean()\n",
        "    sigma = X_norm.std()\n",
        "    X_norm =  ( X - mu ) / (sigma)\n",
        "    \n",
        "    return X_norm, mu, sigma"
      ],
      "execution_count": 0,
      "outputs": []
    },
    {
      "cell_type": "code",
      "metadata": {
        "id": "ej-PH1pLxFme",
        "colab_type": "code",
        "colab": {}
      },
      "source": [
        "normalized_data, mean, sigma = featureNormalize(house_data)\n",
        "\n",
        "#====================== Divide the normalized data into training , cross validation and testing ===================#\n",
        "\n",
        "normalized_data_training = normalized_data[:round(normalized_data.shape[0]*(60/100))]\n",
        "normalized_data_cross_validation = normalized_data[round(normalized_data.shape[0]*(60/100))+1:round(normalized_data.shape[0]*(80/100))]\n",
        "normalized_data_testing = normalized_data[round(normalized_data.shape[0]*(80/100))+1:normalized_data.shape[0]]\n",
        "\n",
        "normalized_data_price_training = house_data_price[:round(house_data_price.shape[0]*(60/100))]\n",
        "normalized_data_price_cross_validation = house_data_price[round(house_data_price.shape[0]*(60/100))+1:round(house_data_price.shape[0]*(80/100))]\n",
        "normalized_data_price_testing = house_data_price[round(house_data_price.shape[0]*(80/100))+1:house_data_price.shape[0]]\n"
      ],
      "execution_count": 0,
      "outputs": []
    },
    {
      "cell_type": "code",
      "metadata": {
        "id": "8eslkO4p3HBc",
        "colab_type": "code",
        "colab": {}
      },
      "source": [
        "normalized_data_training = np.concatenate([np.ones((normalized_data_training.shape[0], 1)), normalized_data_training], axis=1)\n",
        "\n",
        "normalized_data_cross_validation = np.concatenate([np.ones((normalized_data_cross_validation.shape[0], 1)), normalized_data_cross_validation], axis=1)\n",
        "\n",
        "normalized_data_testing = np.concatenate([np.ones((normalized_data_testing.shape[0], 1)), normalized_data_testing], axis=1)\n"
      ],
      "execution_count": 0,
      "outputs": []
    },
    {
      "cell_type": "code",
      "metadata": {
        "id": "O03ZYamHxYLe",
        "colab_type": "code",
        "colab": {
          "base_uri": "https://localhost:8080/",
          "height": 562
        },
        "outputId": "e671a522-30d6-41be-c612-169091f92890"
      },
      "source": [
        "\n",
        "fig = pyplot.figure()  # open a new figure\n",
        "pyplot.plot(house_data['floors'],house_data_price, 'ro', ms=10, mec='k')\n",
        "pyplot.ylabel('price')\n",
        "pyplot.xlabel('bedrooms')\n",
        "\n",
        "fig = pyplot.figure()  # open a new figure\n",
        "pyplot.plot(house_data['bedrooms'],house_data_price, 'ro', ms=10, mec='k')\n",
        "pyplot.ylabel('price')\n",
        "pyplot.xlabel('floors')"
      ],
      "execution_count": 81,
      "outputs": [
        {
          "output_type": "execute_result",
          "data": {
            "text/plain": [
              "Text(0.5, 0, 'floors')"
            ]
          },
          "metadata": {
            "tags": []
          },
          "execution_count": 81
        },
        {
          "output_type": "display_data",
          "data": {
            "image/png": "[encoded data removed]",
            "text/plain": [
              "<Figure size 432x288 with 1 Axes>"
            ]
          },
          "metadata": {
            "tags": []
          }
        },
        {
          "output_type": "display_data",
          "data": {
            "image/png": "[encoded data removed]",
            "text/plain": [
              "<Figure size 432x288 with 1 Axes>"
            ]
          },
          "metadata": {
            "tags": []
          }
        }
      ]
    },
    {
      "cell_type": "code",
      "metadata": {
        "id": "Ov0NvvO61M6z",
        "colab_type": "code",
        "colab": {}
      },
      "source": [
        "def computeCost(X, y, lamda, theta):\n",
        "    # num of training examples\n",
        "    m = normalized_data_price_training.shape[0]    \n",
        "    J=0\n",
        "    hyp = np.dot(X,theta)\n",
        "    J = ((sum((hyp-y)**2))+((sum((theta)**2))*(lamda)))/(2*m)\n",
        "    \n",
        "    return J"
      ],
      "execution_count": 0,
      "outputs": []
    },
    {
      "cell_type": "code",
      "metadata": {
        "id": "d085SnTc23kp",
        "colab_type": "code",
        "colab": {}
      },
      "source": [
        "def computeCostWithout(X, y, theta):\n",
        "    # num of training examples \n",
        "    m = normalized_data_price_training.shape[0] \n",
        "    J=0\n",
        "    hyp = np.dot(X,theta)\n",
        "    J = (1/(2*m))*(sum((hyp-y)**2))\n",
        "    \n",
        "    return J"
      ],
      "execution_count": 0,
      "outputs": []
    },
    {
      "cell_type": "code",
      "metadata": {
        "id": "JbuWDOJF2l7t",
        "colab_type": "code",
        "colab": {}
      },
      "source": [
        "def gradientDescent(X, y, theta, alpha, lamda, num_iters):\n",
        "    # Initialize some useful values\n",
        "    m = normalized_data_price_training.shape[0] # number of training examples\n",
        "    \n",
        "    J_history = []\n",
        "    \n",
        "    for i in range(num_iters):\n",
        "        hyp=np.dot(X,theta)\n",
        "        theta=theta-((alpha/m)*((np.dot(X.T,hyp-y))+(lamda*theta)))   \n",
        "        # save the cost J in every iteration\n",
        "        J_history.append(computeCost(X, y, lamda, theta))\n",
        "    \n",
        "    return theta, J_history"
      ],
      "execution_count": 0,
      "outputs": []
    },
    {
      "cell_type": "code",
      "metadata": {
        "id": "0SEos_oZ41Q4",
        "colab_type": "code",
        "colab": {}
      },
      "source": [
        "lamdas= np.arange(0.0001,0.1,0.01)\n",
        "alpha_1=0.1\n",
        "alpha_2=0.001\n",
        "alpha_3=0.000001\n",
        "thetas_1=np.zeros((normalized_data_training.shape[1]))\n",
        "thetas_2=np.zeros((normalized_data_training.shape[1]))\n",
        "thetas_3=np.zeros((normalized_data_training.shape[1]))\n",
        "num_iters=200\n",
        "\n",
        "for lamda in lamdas:\n",
        "    theta=np.zeros(normalized_data_training.shape[1])\n",
        "\n",
        "    #======================hypothesis 1 ================#\n",
        "    theta1, J_array_train_1=gradientDescent(normalized_data_training, normalized_data_price_training, theta, alpha_1, lamda, num_iters)\n",
        "    thetas_1 = numpy.concatenate([thetas_1,theta1], axis=0, out=None)\n",
        "\n",
        "    #======================hypothesis 2 ================#\n",
        "    theta2, J_array_train_2=gradientDescent((normalized_data_training)**2, normalized_data_price_training, theta, alpha_2, lamda, num_iters)\n",
        "    thetas_2 = numpy.concatenate([thetas_2,theta2], axis=0, out=None)\n",
        "\n",
        "    #======================hypothesis 3 ================#\n",
        "    theta3, J_array_train_3=gradientDescent((normalized_data_training)**3, normalized_data_price_training, theta, alpha_3, lamda, num_iters)\n",
        "    thetas_3=numpy.concatenate([thetas_3,theta3], axis=0, out=None)\n",
        "\n"
      ],
      "execution_count": 0,
      "outputs": []
    },
    {
      "cell_type": "code",
      "metadata": {
        "id": "TryIHnX8PMm0",
        "colab_type": "code",
        "outputId": "a4e584d0-98d3-4789-a8d5-b845cf0526f2",
        "colab": {
          "base_uri": "https://localhost:8080/",
          "height": 373
        }
      },
      "source": [
        "J_array1 = []\n",
        "J_array2 = []\n",
        "J_array3 = []\n",
        "\n",
        "for i in range(lamdas.size):\n",
        "    theta_1_cross=thetas_1[i*15:((i+1)*15)] # i am taking 15 thetas from the group of thetas i have gained it from the training calculations\n",
        "    theta_2_cross=thetas_2[i*15:((i+1)*15)]\n",
        "    theta_3_cross=thetas_3[i*15:((i+1)*15)]\n",
        "    #================== hypothesis 1 ================#\n",
        "    J_array1.append(computeCostWithout(normalized_data_cross_validation, normalized_data_price_cross_validation, theta_1_cross))\n",
        "\n",
        "    #================== hypothesis 2 ================#\n",
        "    J_array2.append(computeCostWithout(normalized_data_cross_validation, normalized_data_price_cross_validation, theta_2_cross))\n",
        "\n",
        "    #================== hypothesis 3 ================#\n",
        "    J_array3.append(computeCostWithout(normalized_data_cross_validation, normalized_data_price_cross_validation, theta_3_cross))\n",
        "\n",
        "\n",
        "#================== hypothesis 1 ================#\n",
        "\n",
        "minimum_Error_Index_1=J_array1.index(min(J_array1))\n",
        "theta_minimum_Error_1=thetas_1[minimum_Error_Index_1*15:((minimum_Error_Index_1+1)*15)]\n",
        "lamda_minimum_Error_1=lamdas[minimum_Error_Index_1]\n",
        "\n",
        "print(minimum_Error_Index_1)\n",
        "print(J_array1)\n",
        "print('minError1',min(J_array1))\n",
        "print('lamda_minError1',lamda_minimum_Error_1)\n",
        "print('theta_minimun_Error_1',theta_minimun_Error_1)\n",
        "\n",
        "#================== hypothesis 2 ================#\n",
        "\n",
        "minimum_Error_Index_2=J_array2.index(min(J_array2))\n",
        "theta_minimum_Error_2=thetas_2[minimum_Error_Index_2*15:((minimum_Error_Index_2+1)*15)]\n",
        "lamda_minimum_Error_2=lamdas[minimum_Error_Index_2]\n",
        "\n",
        "print(minimum_Error_Index_2)\n",
        "print(J_array2)\n",
        "print('minError2',min(J_array2))\n",
        "print('lamda_minError2',lamda_minimum_Error_2)\n",
        "print('theta_minError2',theta_minimum_Error_2)\n",
        "\n",
        "\n",
        "#================== hypothesis 3 ================#\n",
        "\n",
        "minimum_Error_Index_3=J_array3.index(min(J_array3))\n",
        "theta_minimum_Error_3=thetas_3[minimum_Error_Index_3*15:((minimum_Error_Index_3+1)*15)]\n",
        "lamda_minimum_Error_3=lamdas[minimum_Error_Index_3]\n",
        "\n",
        "print(minimum_Error_Index_3)\n",
        "print(J_array3)\n",
        "print('minError3',min(J_array3))\n",
        "print('lamda_minError3',lamda_minimum_Error_3)\n",
        "print('theta_minError3',theta_minimum_Error_3)\n",
        "\n"
      ],
      "execution_count": 86,
      "outputs": [
        {
          "output_type": "stream",
          "text": [
            "9\n",
            "[69172417405.82507, 7513223640.174595, 7513222558.1505, 7513221476.200226, 7513220394.323789, 7513219312.521153, 7513218230.792399, 7513217149.137477, 7513216067.556359, 7513214986.049098]\n",
            "minError1 7513214986.049098\n",
            "lamda_minError1 0.0901\n",
            "theta_minimun_Error_1 []\n",
            "1\n",
            "[69172417405.82507, 51466304771.056725, 51466305281.59356, 51466305792.130775, 51466306302.66778, 51466306813.2048, 51466307323.74165, 51466307834.27864, 51466308344.81531, 51466308855.35231]\n",
            "minError2 51466304771.056725\n",
            "lamda_minError2 0.0101\n",
            "theta_minError2 [47063.39293134  1061.83412463 24939.92074281 14205.84365751\n",
            "   292.46751755 41610.97117205 31462.13033808 37456.86782771\n",
            " 38848.05563635 31113.95076706 32646.47677609 44875.14170184\n",
            " 13296.32778452 36750.8942373    701.72024918]\n",
            "1\n",
            "[69172417405.82507, 68909407752.12617, 68909407752.14539, 68909407752.16512, 68909407752.18442, 68909407752.20387, 68909407752.22314, 68909407752.24258, 68909407752.26198, 68909407752.28134]\n",
            "minError3 68909407752.12617\n",
            "lamda_minError3 0.0101\n",
            "theta_minError3 [106.633899    27.07746965 400.79368973 693.72924904  13.66749325\n",
            "  65.52671683 786.80723456 128.66889991 338.38377352 557.27492752\n",
            " 368.32260146 -55.38532859 666.77886935 340.24759763 310.46155714]\n"
          ],
          "name": "stdout"
        }
      ]
    },
    {
      "cell_type": "code",
      "metadata": {
        "id": "KFzFHflGz0Gg",
        "colab_type": "code",
        "colab": {
          "base_uri": "https://localhost:8080/",
          "height": 67
        },
        "outputId": "56a37edf-f201-42a9-bb8e-62e325133516"
      },
      "source": [
        "hyp1_testError=computeCost(normalized_data_testing, normalized_data_price_testing, lamda_minimum_Error_1, theta_minimum_Error_1)\n",
        "print('hyp1_testError',hyp1_testError)\n",
        "hyp2_testError=computeCost(normalized_data_testing**2, normalized_data_price_testing, lamda_minimum_Error_2, theta_minimum_Error_2)\n",
        "print('hyp2_testError',hyp2_testError)\n",
        "hyp3_testError=computeCost(normalized_data_testing**3, normalized_data_price_testing, lamda_minimum_Error_3, theta_minimum_Error_3)\n",
        "print('hyp3_testError',hyp3_testError)\n"
      ],
      "execution_count": 87,
      "outputs": [
        {
          "output_type": "stream",
          "text": [
            "hyp1_testError 8480165295.272381\n",
            "hyp2_testError 17631828361.415817\n",
            "hyp3_testError 71148190449.64279\n"
          ],
          "name": "stdout"
        }
      ]
    },
    {
      "cell_type": "code",
      "metadata": {
        "id": "u-3A-QdXQUmn",
        "colab_type": "code",
        "colab": {}
      },
      "source": [
        "\n",
        "theta=np.zeros(normalized_data_training.shape[1])\n",
        "num_iters=200\n",
        "#first hyp\n",
        "theta1, J_array1=gradientDescent(normalized_data_training, normalized_data_price_training, theta_minimum_Error_1, 0.1, lamda_minimum_Error_1, num_iters)\n",
        "\n",
        "#second hyp x^2\n",
        "theta2, J_array2=gradientDescent((normalized_data_training)**2, normalized_data_price_training, theta_minimum_Error_2, 0.001, lamda_minimum_Error_2, num_iters)\n",
        "\n",
        "#third hyp x^3\n",
        "theta3, J_array3=gradientDescent((normalized_data_training)**3, normalized_data_price_training, theta_minimum_Error_3, 0.000001, lamda_minimum_Error_3, num_iters)\n"
      ],
      "execution_count": 0,
      "outputs": []
    },
    {
      "cell_type": "code",
      "metadata": {
        "id": "qtP0fJzlQ1BI",
        "colab_type": "code",
        "outputId": "4b7c9c3e-411c-4a2b-d745-798b3b608414",
        "colab": {
          "base_uri": "https://localhost:8080/",
          "height": 307
        }
      },
      "source": [
        " # error versus the iteration \n",
        "pyplot.plot(np.arange(len(J_array1)), J_array1, lw=2)\n",
        "pyplot.xlabel('Number of iterations')\n",
        "pyplot.ylabel('Cost J1')"
      ],
      "execution_count": 89,
      "outputs": [
        {
          "output_type": "execute_result",
          "data": {
            "text/plain": [
              "Text(0, 0.5, 'Cost J1')"
            ]
          },
          "metadata": {
            "tags": []
          },
          "execution_count": 89
        },
        {
          "output_type": "display_data",
          "data": {
            "image/png": "[encoded data removed]",
            "text/plain": [
              "<Figure size 432x288 with 1 Axes>"
            ]
          },
          "metadata": {
            "tags": []
          }
        }
      ]
    },
    {
      "cell_type": "code",
      "metadata": {
        "id": "90GNgypyQ87L",
        "colab_type": "code",
        "outputId": "e91329af-f84e-4775-88b5-2a04b6420f37",
        "colab": {
          "base_uri": "https://localhost:8080/",
          "height": 307
        }
      },
      "source": [
        "pyplot.plot(np.arange(len(J_array2)), J_array2, lw=2)\n",
        "pyplot.xlabel('Number of iterations')\n",
        "pyplot.ylabel('Cost J2')"
      ],
      "execution_count": 90,
      "outputs": [
        {
          "output_type": "execute_result",
          "data": {
            "text/plain": [
              "Text(0, 0.5, 'Cost J2')"
            ]
          },
          "metadata": {
            "tags": []
          },
          "execution_count": 90
        },
        {
          "output_type": "display_data",
          "data": {
            "image/png": "[encoded data removed]",
            "text/plain": [
              "<Figure size 432x288 with 1 Axes>"
            ]
          },
          "metadata": {
            "tags": []
          }
        }
      ]
    },
    {
      "cell_type": "code",
      "metadata": {
        "id": "LuT3AvnwRVQJ",
        "colab_type": "code",
        "outputId": "b4876566-462f-40cf-c07b-80f245713823",
        "colab": {
          "base_uri": "https://localhost:8080/",
          "height": 307
        }
      },
      "source": [
        "\n",
        "pyplot.plot(np.arange(len(J_array3)), J_array3, lw=2)\n",
        "pyplot.xlabel('Number of iterations')\n",
        "pyplot.ylabel('Cost J3')"
      ],
      "execution_count": 91,
      "outputs": [
        {
          "output_type": "execute_result",
          "data": {
            "text/plain": [
              "Text(0, 0.5, 'Cost J3')"
            ]
          },
          "metadata": {
            "tags": []
          },
          "execution_count": 91
        },
        {
          "output_type": "display_data",
          "data": {
            "image/png": "[encoded data removed]",
            "text/plain": [
              "<Figure size 432x288 with 1 Axes>"
            ]
          },
          "metadata": {
            "tags": []
          }
        }
      ]
    },
    {
      "cell_type": "code",
      "metadata": {
        "id": "zWArdpkpzc6l",
        "colab_type": "code",
        "colab": {}
      },
      "source": [
        ""
      ],
      "execution_count": 0,
      "outputs": []
    }
  ]
}